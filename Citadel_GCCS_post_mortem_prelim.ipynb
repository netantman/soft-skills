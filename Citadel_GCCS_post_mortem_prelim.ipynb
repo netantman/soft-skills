{
 "cells": [
  {
   "cell_type": "markdown",
   "id": "ba5ef29d",
   "metadata": {},
   "source": [
    "# Preparation Phase"
   ]
  },
  {
   "cell_type": "markdown",
   "id": "7d19ba9c",
   "metadata": {},
   "source": [
    "## First week of May\n",
    "\n",
    "Choosing between Citadel and Exodus Point (EP). Overview of the two sides known at that time, from talking to multiple sources.\n",
    "- Citadel is a pretigious firm and **Addison Sherman** is a **rising star**, who is **open and likes to share**. The strategy is capital structure arbitrage and basis trading, which are model and metric-driven. Addison himself characterizes his strategy as 'hybird', as he overlays model drive metrics with fundamental analysis. From interview conversation, Addison is quick, sharp and smart, and seemed to be quant-minded. Sharpe ratio claimed to be close to 3.\n",
    "- David Jasper and Jeremy Boe are **famous and well-established in EM credit trading**: Dave claims his strategy has run for over 14 years and never had a down quarter, which is impressive. Jeremy is **eager to share and teach** - at some point he even offered to just show me the system via Zoom, which I turned down due to IP concern (in general perhaps they are informal like that). Conversation with Jeremy were all very pleasant (he does most of the talking oftentimes), even till the very end when I turned down the offer. Sharpe or Sortino ratio claimed to be closed to 5.\n",
    "\n",
    "### Thinking process and dimensions considered, leading to the final decision.\n",
    "\n",
    "#### Pros of Citadel\n",
    "- The strategy is **more model-driven, which is closer to my core background**. In terms of skills I can take away from the experience, the Citadel one thus seems better, as the EP relies more on 'people business' and relation, and trading seems hinging heavily on Dave's personal reputation and guts. I also **had doubt whether communication would be challenging with Dave and Jeremy as opposed to Addison**, as the latter seems more quant-minded.\n",
    "- In Citadel it seems I can **work with other like-minded QR/QDs**, such as Yixi, Conor and Diogo, and be able to hone technical skills further through discussions/code reviews. Though it will be intensed and expected to be pushed a lot, I should expect to learn a lot as well (which was what I was asking for during those boring Bloomberg years). In EP, Sheng says the pod works in isolated fashion. \n",
    "- The **Citadel brand name** definitely carries more weight on resume than EP, and a short two-year stint can eliminate people's questions about past career choices. Hard to argue I did not have some hubris here.\n",
    "- According to Addison, the first 6 months is more development phase, and after that I should **move on to do more research and analytics type of work, even running my own strategy**. The notion of new developed system, though could be a lot of work, was appealing to me as the thinking was if I was involved in the early phase of system buildup, I would have known it innately.\n",
    "- Compensation-wise, Citadel provided guaranteed bonus for the first year, regardless of whether it works out or not, while EP is 'all discretionary' with a base 25k lower than my current base at that time.\n",
    "\n",
    "#### Pros of Exodus Point\n",
    "- The strategy is **well-established**, and Dave and Jeremy are more **laid back**: Jeremy says now their main mission is to nurture and train the next generation of credit traders. The team are known to work from home a lot: Sheng has never been to office once in the past 2-3 years; Ilya has been in and out of Ukraine for family issues and often offline in 2022. In general, EP is easier to manage than Citadel in terms of work-life balance, and will be easier to support family.\n",
    "- I can get **exposure to both rate and credit**.\n",
    "- The younger team members are now doing **end-to-end investment**, i.e. from idea generation, pre-trade analytics to final execution. There is not much to develop in terms of system, as that work was pretty much done. In the asset class of fixed income (credit and rates), this end-to-end work is more naturally leading to the final career of a portfolio manager. To the contrary, Addison confirms I will not be expected to do much execution or attend analyst conference.\n",
    "    \n",
    "In general, though this comparison led me to choose Citadel over EP, it **also soughed doubt** in my mind whether I would just be a QD in Citadel, rather than having the chance to transform and advance in my career. \n",
    "- **I knew and acknowledged the risk that the system work could be heavy and there was a possbility that I would stuck in doing that work, but in fact was still rather uncomfortable about it - since if that comes to pass, the opportunity at Citadel would become outright un-attractive.** \n",
    "- But back at that time, the decision is to take this risk nevertheless, probably being over-confident. "
   ]
  },
  {
   "cell_type": "markdown",
   "id": "10af9f8d",
   "metadata": {},
   "source": [
    "## May to Aug 14"
   ]
  },
  {
   "cell_type": "markdown",
   "id": "bc285beb",
   "metadata": {},
   "source": [
    "### Preparations to start the job in Citadel"
   ]
  },
  {
   "cell_type": "markdown",
   "id": "81d64b2b",
   "metadata": {},
   "source": [
    "#### Technical skills and Domain knowledge\n",
    "- Asked Addison what I should read/prepare, and gets (1) the Credit-Grade model document, (2) credit bond maths, e.g. CDS and risky bond durations, (3) knowledge on recovery swaps/locks.\n",
    "    - (1) and (2) I already reviewed and had notes during interviews, so updated the notes on them.\n",
    "    - For (3), Addison later confirms probably OK not to read, as those are outdated financial instruments which probably does not make sense to trade anyways.\n",
    "\n",
    "- Asked Yixi about technical stacks and financial product knowledge.\n",
    "    - About index CDS: got a copy of Morgan Stanley Credit Insights, which contains index CDS primers and much more - incorporated in my personal notes.\n",
    "    - About excel/VBA and webapp: was told that the team is migrating into a Citadel in-house webapp, which apparently can only be learned in-house. Thus turned to review general python instead: finished the book of < Python Essential References > and summarized into personal notes.\n",
    "        \n",
    "- Besides the ones aformentioned, also did:\n",
    "    - Re-read < Quantitative Credit Portfolio Management > and < Systematic Investing in Credit >, for the parts that imagined could be useful\n",
    "    - Read and summarie < Volatility Surface >: though not explicitly told, had a feeling equity volatility modeling could be relevant, as capital strucutre literature mentioned that is related, and the team in Citadel houses equity vol trading as well.\n",
    "    - Compiled academic literature on capital structure arbitrage.\n",
    "    - Re-structure and reviewed personal notes on credit: product knowledge, modeling, etc."
   ]
  },
  {
   "cell_type": "markdown",
   "id": "5ab5088f",
   "metadata": {},
   "source": [
    "#### Soft skills\n",
    "\n",
    "Referred to the 'Lessons from GS' note I summarized back in 2017, and self-deemed (maybe wrongly) that many have been improved due to experience in Bloomberg.\n",
    "    \n",
    "- 'Remain limbo in learning technology aspects of the job, thinking it is not in the job description': think I am decent in python and not afraid to get my hands dirty anymore\n",
    "- 'Did not ask to take on tasks pro-actively': I asked and took on 14 different projects at Bloomberg, and sometimes even asked and did not get the projects I wanted.\n",
    "- 'Lack of ownership': my quality of work and documentation was praised by managers and peers.\n",
    "- 'Difficulty in communicating technical terms': was considered resolved since my business counterparts in Bloomberg had no trouble understanding me now, but in retrospect it was possible they were just pretending; manager at Bloomberg was an engineer/quant and thus this problem actually did not exist at Bloomberg\n",
    "- 'Take requirment too literarally': experience at Bloomberg was that I was able to understand the requirements and my proposals were well received\n",
    "- 'Did not catch up with manager/teammate often enough and provide update for yourself.': (1) managers at Bloomberg praised my bi-weekly deliverable email, repeatedly; (2) daily stand-ups and catch-ups are often among managers and peers.\n",
    "- 'Ask repeated questions - do not indicate that you have learnt': it is found that rephrasing what people has told you can effectively avoid this problem; also taking notes for future reference and thus outsoucing memory allocation helps.\n",
    "    \n",
    "    Based on the above, I considered myself much better in this regard."
   ]
  },
  {
   "cell_type": "markdown",
   "id": "f8317efb",
   "metadata": {},
   "source": [
    "#### Life routine and supporting systems\n",
    "\n",
    "- Paid more attention to energy management and thought about daily routine carefully, rather than just simply assumed unlimited mental strength: asked Yixi what Citadel office could offer in terms of this kind of support\n",
    "- Scarred by the experience of GS, where I was relunctant to do house work, determined to help around house more this time."
   ]
  }
 ],
 "metadata": {
  "kernelspec": {
   "display_name": "Python 3 (ipykernel)",
   "language": "python",
   "name": "python3"
  },
  "language_info": {
   "codemirror_mode": {
    "name": "ipython",
    "version": 3
   },
   "file_extension": ".py",
   "mimetype": "text/x-python",
   "name": "python",
   "nbconvert_exporter": "python",
   "pygments_lexer": "ipython3",
   "version": "3.9.7"
  }
 },
 "nbformat": 4,
 "nbformat_minor": 5
}

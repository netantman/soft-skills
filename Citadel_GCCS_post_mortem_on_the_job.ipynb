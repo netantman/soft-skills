{
 "cells": [
  {
   "cell_type": "markdown",
   "id": "ee053bb3",
   "metadata": {},
   "source": [
    "Not an exhautive list of everything I have done/experienced, but those with notable incidents"
   ]
  },
  {
   "cell_type": "markdown",
   "id": "00817d5e",
   "metadata": {},
   "source": [
    "# Cast\n",
    "- Danyaal: team lead of QDs\n",
    "- Andrew, Junliang: QDs\n",
    "- Charlie: Head of QDs and supervisor of Danyaal, Andrew and Junliang\n",
    "- Tianheng: used to be and is Addison's No.2\n",
    "- Kevin: trader on GCCS\n",
    "- Rishi: project manager"
   ]
  },
  {
   "cell_type": "markdown",
   "id": "b6a30425",
   "metadata": {},
   "source": [
    "# Aug"
   ]
  },
  {
   "cell_type": "markdown",
   "id": "f0748759",
   "metadata": {},
   "source": [
    "- Getting access to code library. It was said I would not be granted full code access (not *fstrat*, see below).\n",
    "    - It was the first time the QDs needed to grant access to someone on the desk, so new procedure needed to be established. It would seem that QDs did not know what access I would need for my role, until I actually came in.\n",
    "    - Meanwhile, I found that the tools/infrastructure were coming along more than I thought, so I was happy thinking that the initial development phase could end sooner and I could move on to do research sooner as well.\n",
    "    \n",
    "<font color='red'> **Remark**: </font> you have squandered the time window in which you should build connection to your new boss and clarify role/responsibilities/expectations. But then it is possible that Addison himself is not very clear about this role setup."
   ]
  },
  {
   "cell_type": "markdown",
   "id": "bc6e2cca",
   "metadata": {},
   "source": [
    "# Sep"
   ]
  },
  {
   "cell_type": "markdown",
   "id": "5943e399",
   "metadata": {},
   "source": [
    "## Implemented 'distance-to-default'\n",
    "- Basically it is a ratio of company's debt to how much the company is worth (known as **enterprise value**). \n",
    "- Formula was from Addison, which seemed straightforward at the time and similar to other metrics I have known in the past, which relied on the **book or appraised value of enterprice, rather than market value**. Indeed the code change was quick as well, and the only thing that were slow were the steps to get the result to publish in **Canvas, the main webapp**.\n",
    "- Fast forward to Feb, Addison and Tianheng found out about book value and said that enterprise value should be using market value, since the metric should be updating in realtime. Since the expectation was for me to be able to translate and make the right choice, this project added to list of my failures of **'inserting wrong assumptions'**.\n",
    "\n",
    "<font color='red'> **Remark**: </font> \n",
    "- The formula is given by Addison, so there was the thought that there could be little ambiguity: but of course it turned out it was not.\n",
    "- There are several chances you could have avoided this by following the SOP\n",
    "    - If you asked the question about the workflow, or how Addison/Tian intend to use it, maybe you would know it should be a metric that refreshes more than quarterly, and as such using book-value of enterprise value is inappropriate.\n",
    "    - If you asked how frequent the metric should update, you could have caught this as well.\n",
    "    - When you understood that you could source the enterprise value from fstrat, you should have synced with Addison and asked if it was OK to just use book-value from fstrat.\n",
    "- Later in Dec/Jan, there was a task to show interest-rate by CGM model that was similar to this (not documented in detail below). The mistakes you made were also (1) failure to ascertain user need; (2) did not provide prompt updates."
   ]
  },
  {
   "cell_type": "markdown",
   "id": "0907f455",
   "metadata": {},
   "source": [
    "## Addison expressed some frustration on the progress of the tools development, but seemed mainly on QDs\n",
    "- I had some meetings with QDs and see how I could help, but got the response it might be **more efficient for QDs to do the system part of work rather than training me up for it, and would allow me to focus on research and analytics type of work**. This made sense to me at the time (also persuant to my own interest). They also said QDs 'totally have the bandwidths for it'. \n",
    "- Relayed this feedback to Addison, who did not seem too upset by this at the moment. I also mentioned it was part of my job to manage relation with QDs and he seemed to agree and said 'it was tricky'.\n",
    "- Given this, I was under the impression that **I could get by by doing just ad-hoc analytics and quant research, while leaving tool development mostly to QDs**. And thus **not having the full suite of QD tools, access, monitors did not seem to be a big deal, at that time**.\n",
    "\n",
    "<font color='red'> **Remark**: </font> again this is the opportunity to ascertain your expectation, rather than just be an onlooker. I guess the mentality back then was to shield technical projects as much as you could, as you wanted to transform into a fundamental analyst/trader type of role."
   ]
  },
  {
   "cell_type": "markdown",
   "id": "5c358830",
   "metadata": {},
   "source": [
    "## Had a 'excellent 30-day review' (Addison told Yixi)\n",
    "- Addison mentioned he was pleased that I could produce quick, ad-hoc analysis via jupyter notebooks, which seemed to take QDs quite a while on Canvas.\n",
    "- I was able to diagnose issues independently, and handed over for QD to fix. \n",
    "- The cap arbitrage strategy requires to sell stock to hedge the company debt we buy, but the model had been outputing an amount of stocks to sell that was too small. I diagnosed and traced it back to some assumption that Addison claimed was made in the model of his prior firm, but he could not remember the details. \n",
    "    - After some investigations, I proposed a fix that would resolve the issue and presented evidence. Addison provided some feedback and inputs, but in general seemed quite pleased with the work. "
   ]
  },
  {
   "cell_type": "markdown",
   "id": "0054aa3e",
   "metadata": {},
   "source": [
    "# Oct"
   ]
  },
  {
   "cell_type": "markdown",
   "id": "1c4c548f",
   "metadata": {},
   "source": [
    "## The detailed types of debts of a company\n",
    "- Finished in early Oct, depending on an API that QDs provided\n",
    "- Later, Addison found numbers for some companies not what he expected. He asked if I had checked against a Bloomberg function, where the expectation was that I should just knew, but in fact I was not aware of.\n",
    "- After investigation, I found that the mismatch was due to having two systems of identifications in the system, and different steps of my calculation were using different identifications, which caused errors in mapping. \n",
    "   - It was 'MsymbolUkey' vs 'RegisteredEquivMsymbolUkey', and different QD datasets had different conventions, with no documents.\n",
    "- Again later, Addison found another instance where the numbers he deemed did not match.\n",
    "   - Addison said 'I thought this was fixed', with the tone that to me implied 'did you screw up again' and 'do you know what you are doing?'\n",
    "   - But after investigation, I confirmed it indeed matched the Bloomberg function, and thus produced a summary for the internal data team to take a look and copied that email to Addison. At that point, Addison found that he misread the numbers, confusing commas and decimal points. \n",
    "   - To his defense, the fonts were too small on Canvas. So I put it on my list to show numbers in the unit of millions. But since considering this was something only of aesthetic value, I did not take priority to change it and confirmed that Addison did not care too much about it, compared to other things. \n",
    "   - But in Addison's eyes, when I actually made the change in December and notified him, 'It took you two months to change the format of the number, while it should just take you two minutes'. \n",
    "       - It was hard for me to argue against such comment either way, since back in Oct, I was not familiar with the system, it would indeed take me a long time; but in December, I knew where to change and the change indeed would just take me two minutes. \n",
    "       - So faced with this comment, I did not explain but to just laughed awkwardly. \n",
    "\n",
    "<font color='red'> **Remark**: </font>\n",
    "- The mistake could be avoided by asking if there was benchmark we can check against: Addison seemed to use the *FA < GO >* function.\n",
    "- Honestly, till this day, it is not clear how accurate it should be against the *FA < GO >* function: sometimes the difference can be in billions due to different timestamps. Should have ascertain what the acceptable criteria are.\n",
    "- The reason that led to Addison mocking me taking two months to change the font, is that I failed to visualize my projects/milestone/obstacles early on; the periodic 日报 should be kept."
   ]
  },
  {
   "cell_type": "markdown",
   "id": "1f09ea8b",
   "metadata": {},
   "source": [
    "## The model inputs dashboard\n",
    "- Addison would like to see the model inputs alongside the model outpus, on Canvas dashboard.\n",
    "- Addison claimed that QD was not able to produce, but after taking a look, I realized it is a day's work. I went ahead and finished it and he commented 'good work' on that day.\n",
    "- But there was a hiccup: for a particular model input, the setup of dataset made it very hard to show that parameter as a table, but instead much easier to show it as a historical chart, including the present value. \n",
    "    - The reason was the calculations powering the table and the chart are two separate, different processes. And the particular input was not already in the table calculation but in the chart calculation; adding the input to the former would require back-end code change, which although not expensive, seemed unnecessary given that it is already in the chart with both historical and present value. \n",
    "    - I proposed to show it in the charts rather than table, and Addison snapped\n",
    "        - Addison: 'Why you had to provide a chart when I asked for it in the table?‘ \n",
    "        - Me: 'The dataset setup made it difficult...' \n",
    "        - Addison (overrode me and lamented): 'We are not plugging in our strategy: if the tech does not work, make it work around what we need rather than the other way around. We don't work for the QDs, they work for us - etch this in your mind!' \n",
    "        - (I kept saying that was not what I meant)\n",
    "- From that time on, I was **hesitant in suggesting alternatives that was different from what Addison spec'ed**.\n",
    "\n",
    "<font color='red'> **Remark**: </font> \n",
    "- To be fair, you were not certain what the workflow of the user is: maybe indeed there is a need to see the latest number in a table rather than reading it off a chart. This is something that can be avoided using the SMART Checklist.\n",
    "- When facing criticisms, see [this note](https://www.evernote.com/shard/s191/nl/21353936/54b4b5d4-c8c5-58a8-a43a-373cc91d041e?title=%E4%BC%98%E7%A7%80%E5%91%98%E5%B7%A5%E6%B2%9F%E9%80%9A%E8%AE%AD%E7%BB%83%E8%90%A5%20Day%204%20-%20%E8%A1%A8%E8%BE%BE%E4%B8%8D%E5%90%8C%E7%9C%8B%E6%B3%95%EF%BC%8C%E5%88%AB%E5%90%83%E5%93%91%E5%B7%B4%E4%BA%8F) and [this note ](https://www.evernote.com/shard/s191/nl/21353936/b6fb968e-6714-6565-bc05-58f69d3830ce?title=%E4%BC%98%E7%A7%80%E5%91%98%E5%B7%A5%E6%B2%9F%E9%80%9A%E8%AE%AD%E7%BB%83%E8%90%A5%20-%20%E7%9B%B4%E6%92%AD%E7%AD%94%E7%96%912). The key could be that you need to acknowledge your boss's objective so that he feels he has control over you or that you are standing with him, first, before anything else."
   ]
  },
  {
   "cell_type": "markdown",
   "id": "efa9d14a",
   "metadata": {},
   "source": [
    "## Going live with the model change I researched and proposed in Sep\n",
    "- On Oct 6, I communicated in a weekly meeting with Addison and QDs that 'the change will be turned on' following next Monday's release.\n",
    "- The next Monday, Oct 10, is a bond market holiday, and Addison was out, but messaged and asked about this change. \n",
    "    - I replied it was turned on and should had its effect today, then he reminded there should be manual steps to adjust parameters accordingly, lest it affect actual trading. Thus we could not just turn the change on without assessing the impact on the downstream parameters first. \n",
    "    - Addison was not happy with how I handled this change. QDs were called in to revert the change in prod.\n",
    "- I did the analysis the next day as to how much the downstream parameters needed to be changed. Since it was the first time producing such numbers, it took 2-3 hours which Addison thought it was too long and display unhappiness.\n",
    "- I did a post-mortum of this incident, and wrote a check-list of downstream things to check for when we needed to make model changes in the future - but I did not get the chance to use that list much, as there were no model changes in my upcoming work.\n",
    "- The model output for historical inputs will also need to be updated due to this model change. \n",
    "    - QDs confirmed in the week of Oct 6 that there were automatic compute jobs that would refresh the history.\n",
    "    - However, on Oct 14 or so, when the change was turned on and I was doing other analysis, I found that history was not fully updated.\n",
    "    - Notified Addison immediately, who was furious.\n",
    "        - Addison: \"What does this mean? Trading might have been done on the wrong information! You told me this was fixed!\"  \n",
    "        - Haowen: \"I was assured by QDs the history should have been refreshed by now.\"\n",
    "        - Addison: \"Why were you not on top of this?\"\n",
    "    - I did not have the monitoring dashboard for QDs at the time (as I was under the impression that QDs were monitoring that for us, per our earlier discussion). Checked with Andrew, who said that actually the job succeeded. Without a clue, Andrew simply reran the job, and the history managed to be refreshed.\n",
    "    - Using this incident, I asked for access to the dashboard to monitor the jobs, but until the auto compute jobs were retired 2-3 months later, it did not help us prevent similar issues above: the auto computation job in question was publishing to Canvas memory, and would occasionally found to fail silently, like what was described above. \n",
    "    - Addison was of course not happy about this, and **lamented me and QDs not on top of things**.\n",
    "\n",
    "<font color='red'> **Remark**: </font> \n",
    "- Metrics and measurability of the project are not clear: what counted as done? Are there tests we need to pass? I guess at this point you were still having the Bloomberg/BVAL mentality, that checking the offending example bond suffices. Probably a bigger scope of check was needed.\n",
    "- Did not consider the implications of downstream workflow.\n",
    "- You also did not mention the post-mortem you did, which would be instrumental to rebuilding relationships with Addison.\n",
    "- For relationship with your QD colleagues moving forward, use 公示法 in this [note](https://www.evernote.com/shard/s191/nl/21353936/4d4e4c1b-0cff-1740-d354-fcafabfea65b?title=%E4%BC%98%E7%A7%80%E5%91%98%E5%B7%A5%E6%B2%9F%E9%80%9A%E8%AE%AD%E7%BB%83%E8%90%A5%20Day%209%20-%20%E6%80%8E%E4%B9%88%E5%92%8C%E8%87%AA%E5%B7%B1%E4%B8%8D%E5%96%9C%E6%AC%A2%E7%9A%84%E4%BA%BA%E5%85%B1%E4%BA%8B%EF%BC%9F). In particular, send an email after ascertaining with Addison about who is monitoring what."
   ]
  },
  {
   "cell_type": "markdown",
   "id": "ac9eaf29",
   "metadata": {},
   "source": [
    "## Issue of one model input historical values\n",
    "- The historical values of the one model input started to show weird jumps in the week of Oct 17.\n",
    "- When I found this, I checked a few bonds in our portfolio at the time: the impact seemed to be negligible. Notified Addison about this in a project update 1-1. Compared to other things on the list, this incident looked harmless at the time. \n",
    "    - Addison asked if it was just a charting issue, I said I suspected so, without going into details and clarifying that I did not look too closely, as I did not suspect anything wrong with the calculations.\n",
    "- But it turned out it was a bug introduced by QD on a change the week before. And beyond the few bonds I looked at, it caused another bond's trading signals to be greatly impacted. \n",
    "    - What was worse, Addison had to find out about it himself when checking the team's trading pnl: 'Why are there no checks in the process and why it is me who found this? And you told me it was a charting issue! You called that good communication?! Who was responsible?'\n",
    "    - The whole day that day was about this issue. At the end, I managed to trace it down to Andrew and showed Addison the pnl impact happened to be negligible. Addison thus did not go through with legal/compliance and asked for the person(s) responsible suffer negative consequences - that would include me.\n",
    "- Given this incident and the one mentioned above, and on one other occasion Addison mentioned 'you will be evaluated by the reliability of the tools', I started to keep track of QDs' changes (used this incident to ask QDs to give me JIRA board access) and tried to do thorough testing whenever some changes were made. \n",
    "    - Whenever I checked, I had to do it manually since not only did I need to ensure the numbers were not missing, but also that they made sense. I tried to check not for just a few bonds but sometimes quite a dozen of bonds, compensating for system monitoring being unreliable (the issue mentioned above). I hoped this could increase my chances of catching issues before Addison did. But unfortunately, later experience would show, even if for the items that I checked that indeed looked correct, there was always another item that was not, and I got reprimanded for 'not checking at all'. \n",
    "    - **Doing more checking and doing them more manually occupied more and more of my time and rendered me even slower**.\n",
    "    \n",
    "<font color='red'> **Remark**: </font> \n",
    "- SLA not clear: what metrics determine whether the results are good? Is missing data significant? If checks are to be performed manually, then flash the risks about this constraint.\n",
    "- Although you did not like him, you could learn a thing or two from Robert Hawer's engagement approach. At least Addison seemed to respect him. 不要大包大揽。\n",
    "- Should have used this instance to establish responsibilities; see the remarks in the insident above. But then again, the thinking back then was to avoid technical work as much as I could..."
   ]
  },
  {
   "cell_type": "markdown",
   "id": "e3ad0608",
   "metadata": {},
   "source": [
    "# Nov"
   ]
  },
  {
   "cell_type": "markdown",
   "id": "1148243a",
   "metadata": {},
   "source": [
    "## 90-day review\n",
    "- Addison emphasized again the incidents mentioned before.\n",
    "   - \"If I find another pnl unexplained, which means something is wrong, I will start firing people.\"\n",
    "   - \"I will penalize you asymmetrically and heavily, if the numbers are not reliable.\"\n",
    "- Other than that, Addison mentioned that there were Canvas issues even before I joined, so understood I was not solely reponsible for that.\n",
    "   - Besides, mentioned he was quite happy about the basket analytics I produced and the progress I made.\n",
    "   - He seemed to mean it: after the meeting, he mentioned that they could start looping me in when GCCS are having drinks with counterparties."
   ]
  },
  {
   "cell_type": "markdown",
   "id": "7c1c167a",
   "metadata": {},
   "source": [
    "## More metrics and analytics on Canvas\n",
    "- Release cycle was every week with Friday code-cutoff and release on Monday. \n",
    "    - Addison complained that asking for something would have to wait for a week to see, and it takes another week if some changes need to be made following feedback. \n",
    "    - That was a valid point, so I tried to demo using UAT, i.e. the testing environment. What it takes was to publish the new data to Canvas' memory in UAT.\n",
    "- But the UAT was shared: there could be other developers testing publishing their changes and there were schedule jobs that tried to publish as well. These would erase the new data I tried to demo. After several annoyances of me claiming data available and ready to review e.g. at noon, only for it to be erased in the afternoon and Addison found it 'not working' after market close, I investigated and found out about the above and got QDs to grant me access to the dashboards. I would also make sure to coordinate with them to not have my data erased when I was about to demo, sometimes at the expense that QDs were waiting on me to be able to test their own changes.\n",
    "    - But when Addison was pissed and asked why it was again 'not working' while I claimed it was, I provided the simplistic answer that 'the data was erased by others' without elaborating. \n",
    "    - Without me knowing about it, Addison took this statement to the Danyaal, the team lead of QDs in one of their catch-up meetings and said something like 'Haowen said his data was erased in UAT'. \n",
    "    - Danyaal took it to mean the data in the database, not Canvas memory, was erased, and commented this was not true. \n",
    "    - Addison relayed the response to me, with a tone that sounded to me already under the view that 'QDs said what you said was not true' and 'You did not know what I was talking about'. I subsequently got hold of Danyaal and asked him to clarify, and only then I was aware of this was a mis-translation. I tried to then explain to Addison, but **he seemed annoyed enough and did not want to hear any more of it: 'Danyaal says the data is not erased, and I don't want to hear any more excuses.'**\n",
    "    \n",
    "<font color='red'> **Remark**: </font> see Problem 2 in [this note](https://www.evernote.com/shard/s191/nl/21353936/d7c31191-8e39-20b5-8f2d-07570bde1762?title=%E4%BC%98%E7%A7%80%E5%91%98%E5%B7%A5%E6%B2%9F%E9%80%9A%E8%AE%AD%E7%BB%83%E8%90%A5%20-%20%E7%9B%B4%E6%92%AD%E7%AD%94%E7%96%913), which refers to [this note](https://www.evernote.com/shard/s191/nl/21353936/4273e090-b0bc-0006-90fa-ae160b546447?title=%E4%BC%98%E7%A7%80%E5%91%98%E5%B7%A5%E6%B2%9F%E9%80%9A%E8%AE%AD%E7%BB%83%E8%90%A5%20Day%207%20-%20%E8%AE%A9%E8%87%AA%E5%B7%B1%E7%9A%84%E5%B7%A5%E4%BD%9C%E6%88%90%E6%9E%9C%E5%8F%8A%E6%97%B6%E8%A2%AB%E7%9C%8B%E8%A7%81%EF%BC%9F) and [this note](https://www.evernote.com/shard/s191/nl/21353936/4d4e4c1b-0cff-1740-d354-fcafabfea65b?title=%E4%BC%98%E7%A7%80%E5%91%98%E5%B7%A5%E6%B2%9F%E9%80%9A%E8%AE%AD%E7%BB%83%E8%90%A5%20Day%209%20-%20%E6%80%8E%E4%B9%88%E5%92%8C%E8%87%AA%E5%B7%B1%E4%B8%8D%E5%96%9C%E6%AC%A2%E7%9A%84%E4%BA%BA%E5%85%B1%E4%BA%8B%EF%BC%9F). The key observation is that, the bad impression Addison had probably cannot all be attributable to QDs bad-mouthing you: Danyaal probably did not mean to either. Addison just latched on an incident to confirm his suspision on you."
   ]
  },
  {
   "cell_type": "markdown",
   "id": "df9a1a44",
   "metadata": {},
   "source": [
    "# Dec"
   ]
  },
  {
   "cell_type": "markdown",
   "id": "a91f199c",
   "metadata": {},
   "source": [
    "## Tianheng joined\n",
    "- Tianheng was from Addison's old firm, and they have known each other for over 10 years in other locations as well: later Tianheng told me in recruiting me, Addison asked for his opinion and Tianheng spoke very highly of me.\n",
    "- On one morning, Tianheng told me Addison was not happy about me being both slow and error-prone. Said he had put in good words for me and suggest to Addison to give me more time to transition. In the meantime he warned me Addison was very upset - **that was the first time that I explicitly realized that Addison thought projects not being finished on time were now at least partly on me** and I had been clueless until then. \n",
    "    - Tianheng told me the creation of my role was to eventually rid all dependencies on QR/QDs, and GCCS became somewhat fully self-sufficient. So **I was not doing my job properly if I relied too much on QDs or delicated work to them**.\n",
    "- Tianheng seems very willing to mentor me, and provided some glimpse as to how Addison thought about me in the months to come. "
   ]
  },
  {
   "cell_type": "markdown",
   "id": "b1eb96c0",
   "metadata": {},
   "source": [
    "## More aggressive deadlines in deliverables\n",
    "\n",
    "- With the turn of November, Addison became markedly more impatient in deliverables.\n",
    "- Addison set out a hard deadline for me to add 4-5 different metrics in the table as well as their historical charts on Canvas. He set out the deadline to be a week, before Orlando celebration. \n",
    "   - In his opinion, this ETA was generous, since 'all the data are available in the system, so an additional metric a day is very generous'. \n",
    "   - But in fact, since the system and datasets were fragmented, I had to create new APIs, and a different one for each additinoal metric or calculation. On one occasion, I needed to make changes in *fstrat*, a code library where I did not have access; I got around that by asking Junliang to send me screenshots of the code, and asked him to copy my changes back to the library. By doing this, I was not able to test out my changes locally first - thankfully nothing seemed to have crashed.\n",
    "   - In the process, I was on my own to learn about the code and figure out places to change, since Andrew was most familiar with this part, but he was out.\n",
    "- Depsite having to work during Thanks-giving, I was able to carry through before deadline. Addison said he was happy.\n",
    "   - But unfortunately, since I panicked about the deadline and obsessed with keeping track of the different parts of the implementation, I did not quite give much thought or check thoroughly on the formula of calculation itself. \n",
    "   - In trying to compare how much GCCS traded vs the market, two metrics were defined: what the portion of market's total trades were GCCS's, i.e. market share, and what was the shortfall: the difference between what GCCS traded and the whole market, averaged for the past 1m, 3m and 6m.\n",
    "   - Since GCCS did not trade all instruments, an assumption was made that $70\\%$ on the whole market was what we traded, based on some prior analysis. \n",
    "       - Technically, GCCS was looking at ICE volumns, but for any single name CDS volumns are aggregated across all maturities. Since GCCS only traded 5y maturity, the assumption was made that $70\\%$ of the total is 5y.\n",
    "   - I applied this $70\\%$ in calculating the shortfall, but not the market share.\n",
    "   - Addison was livid when he found out about this.\n",
    "        - \"Again it was others in the team who found it. What if they just used it to make investment decisions without looking?\"\n",
    "        - \"We interviewed you, and you know maths. Isn't that what maths is about, checking your answers? It is like doing 2+2 and you forget to carry the 2 and says the answer is 2!\"\n",
    "        - \"This is the most successful hedge fund in the world, and we are the only one doing this type of strategy here, so we are supposed to be world class - this, is not world class!\"\n",
    "        - \"I am sure there are more HR-ish way to say this, but we should seriously consider whether to keep you!\"\n",
    "- This incident and a few others aforementioned gave Addison and Tianheng the **strong impression that I was \"not attentive to details\"**.\n",
    "\n",
    "<font color='red'> **Remark**: </font>\n",
    "- Follow the SOP, and check the formula that is used and implemented: you did not check back to mock-up spreadsheet until questioned later, which was a mistake.\n",
    "- Also, maybe Addison did not exactly want those metrics in a week (one or two day delay is OK).\n",
    "    - He was just frustrated why things took a long time, and as such more frequent updates could help gain him a sense of control.\n",
    "    - Also, a way to quickly mock up, rather than pushing everything on Canvas, could be handy.\n",
    "- Needless to say, the way you handled criticism could be better in this scenario as well."
   ]
  },
  {
   "cell_type": "markdown",
   "id": "759a6273",
   "metadata": {},
   "source": [
    "## A tool for carryroll calculation\n",
    "\n",
    "- Yixi provided an analytics tool called carryroll calculation that Addison was interested in. Since GCCS would want to specify custom inputs and perform calculation on the fly, while Yixi's spreadsheet only provided cached calculations for a given set of inputs, further work was needed.\n",
    "- In a meeting with QDs, I spec'ed out the requirements and dependencies I needed from them. QDs counter-proposed to let them develop the whole project, claiming that it was a core tool which could be useful to other desks. \n",
    "- I communicated it with Addison, who first said nothing but a few days later mentioned he disagreed, maintaining that he would want QDs for other projects, so I would have to take it on - which was completely fine by me.\n",
    "- But there were still dependencies on QDs, as custom-input calculation would need to invoke a core risk infrastructure (the *RiskEngine*), which required training time to know how to use, and the API of carryroll calculation did not exist. In the interest of project delivery time and computation runtime, QDs had agreed to provide the new API, while I focused on building the excel spreadsheet as the front-end and call the said API - it would be in excel, since Canvas does not provide good user experience for interactions.\n",
    "    - QDs needed a few days to provide the API for me to carry on, at the meantime proposing a calculation methodology that, although generic, did not handle edge cases very well. Addison and Tianheng were not happy about the timeline, pointing out there was a simpler methodology which was a standard approximation, and lamented why I needed to rely on QDs' methodology without thinking to come up with something simple and usable first. To be fair, indeed a QR or QD with prior experience in this may go with the simpler approximation first without a thought.\n",
    "    - I have no hard proof on this, but I think this was one of the evidence that QDs provided in a later investigation that claims **'Haowen is not as efficient as QDs, and rely heavily on QDs' assistance in finishing projects'**. \n",
    "    - Addison and Tianheng later often used this example to say **I 'was too comfortable relying on QDs and disregarded urgency of projects'**.\n",
    "        - Tianheng maintained that both Addison and himself were able to do the same calculation on excel in 30 minutes, 10 years ago at the bank that they worked for. When I pointed out that the API required did not exist here at Citadel and needed to be built first, Addison was incredulous 'this is a billion-dollar hedge fund, and you are saying it does not have technology that even existed 10 years ago?' I did not know how to respond without upsetting him further.\n",
    "- Nevertheless, I was able to build the excel spreadsheet in a day, using a simplified version of the API that I wrote heeding comments above, with the half-finished steps QDs could provide at that time. Addison and Tianheng tested for a few scenarios, which seemed to work, and commented 'this is good, seems to be coming along. Just make sure you will continue to be good.' \n",
    "    - However, a month later, Addison tried to use the tool on a scenario that was not tested and the spreadsheet failed. \"Fuck  man! This is dangerous, we are exposed!\"\n",
    "        - The failure was due to Addison trying for a name outside of the covered universe: CDXIG and CDXHY. Also the two legs of the CDS trades were not covered: he was trying to trade 5Y and 3Y6M, but the backend calculation (in *RiskEngine*) did not take 3Y6M as a valid tenor at the time.\n",
    "    - I was able to diagnose the above and extend the usage to that use case in an hour or so, but Addison mentioned the trade was already missed.\n",
    "    - Addison later used this example to say that I **'inserted wrong assumptions in carrying out projects'**: 'why would you think that we would not trade 6m tenors?'\n",
    "    \n",
    "<font color='red'> **Remark**: </font>\n",
    "- The mess-up on universe and tenor legs debacle stemmed from not entirely knowing user's workflow: do not be afraid to interview your user a bit more.\n",
    "- It was indeed your fault of not coming forward with a solution, though maybe incomplete one, to show, rather than just relying on QDs. Some boss may be more tolerant in timeline, but remember always talk to your boss with something you can show!"
   ]
  },
  {
   "cell_type": "markdown",
   "id": "b48904d3",
   "metadata": {},
   "source": [
    "# Jan"
   ]
  },
  {
   "cell_type": "markdown",
   "id": "6e56b21e",
   "metadata": {},
   "source": [
    "## Moving on the investment research?\n",
    "\n",
    "- Heeding comments from Addison and Tianheng back in Dec, I had adjusted my mentality and always took priority in delivering something simple and usable first, when we had QD dependencies. I managed to push various changes fulfilling Addison and Tianheng's need, and the results seemed to be to their satisfaction. \n",
    "        \n",
    "    - QDs were out at the latter half of December, so I had to push my code without QDs' code review in order to meet Addison's deadlines. Later in Jan when they were back, I was warned that though they understood I was under tight deadlines, I should have given them time to review, since there might be changes that could crashed the system, with reprecussions not just on GCCS but other desks. Again I do not have hard proof on this, but this could be the evidence QDs provided in a later investigation that **'Haowen pushed code that without review, could crash the whole system.'**\n",
    "        \n",
    "- But being able to churn things out quickly seemed to have earned me some credentials, as Tianheng and Addison thought I was 'much better'. \n",
    "- In a short 1-1, Addison told me that 'no tools we need are not in the pipeline now' and we as a team should move on to more research this year, whether it be quant research or investment research. Since I expressed interest in learning investment research, I was given a few primers and an accounting book to read: the goal was to understand when Addison and Tianheng were talking about the fundamentals of a company and formulating investment ideas.\n",
    "   - Getting so exciting on this prospect, I finished all primers and the book in one weekend and wrote down questions - which I actually never had a chance to ask -  just perhaps one or two weeks later, Addison backtracked and said 'the tool is not done!' and thus tabled the notion of me working on investment research.\n",
    "   "
   ]
  },
  {
   "cell_type": "markdown",
   "id": "913e031b",
   "metadata": {},
   "source": [
    "## Follow-on drama on carryroll\n",
    "\n",
    "- Now that I had done the carryroll calculation in the spreadsheet, Addison would like to see the historical values of a derived time-series on Canvas.\n",
    "    - The derived time-series is a simple arithmetic calculation using the carryroll numbers: it is just the 2s5s cs01-neutral pnl.\n",
    "- At this point, the way to show historical charts on Canvas was no longer publishing to Canvas memory as aforementioned (which was reaching the memory limit and crashed a lot), but to direct Canvas to query databases. That entails the numbers be saved as new columns in the database tables first. \n",
    "    - From a maintenance and scalability point of view, QDs pushed back on adding these new columns to the database, since it was for simple arithmetics of existing columns in the table - it could very well be calculated on the fly if it were not for Canvas publishing. \n",
    "    - Instead, they urged GCCS to consider using a new functionality on Canvas that would allow fast prototyping of charts and analytics, without having to rely a change in the database or back-end code, and thus could move much faster.\n",
    "        - Basically the new functionality was integrating a jupyter notebook on Canvas and permited linking to existing charts/tables on Canvas. Results would be calculated on the fly, bypassing traditional Canvas publishing, and thus not requiring saving redundant columns in database tables.\n",
    "- QDs communicated this proposal on a Thursday weekly meeting, and mentioned there was final touches being done to release this new functionality, which could take another week or so. After that, I could work to produce the historical charts. Addison seemed to agree on this timeline.\n",
    "    - In another meeting the following day (Friday), Danyaal confirmed this plan with Addison.\n",
    "- On the Monday following the weekly meeting, Addison asked me where the historical chart was. \n",
    "    - Me: 'I am waiting for the new functionality, so that I could start work - I should be able to towards the end of the week.' \n",
    "    - Addison snapped: 'Why can't you do it?! The jupyter notebook is for prototyping, but there should be no need for prototype for this, as the methodology is settled. I want this in production on Canvas! I don't care if it does not make sense to add it to the system - just get it done!'\n",
    "    - I tried to explain jupyter notebook would be integrated with prod Canvas and from a user's perspective it would be no different in viewing the chart in the jupyter tab vs traditional Canvas tabs. But Addison did not want to hear more of it, saying 'jupyter is not production!' \n",
    "    - Thinking that maybe he took it as we were asking him to compromise workflow due to system limitation again (which honestly we were not), I chose not to argue but rather got the job done the way he wanted.\n",
    "    - That would thus mean we needed to persist new redundant columns in database after all. I called up Junliang, the QD who was busy setting up jupyter at the time, and told him I needed the database table changed to accommodate the addition instead. Junliang was confused as that was not what was agreed on last week and I had to explain to him this was how Addison wanted it now.\n",
    "    - Asked Danyaal to showed me how to change the database table myself and found that I actually did not have write access to the database. Asked for this access as Addison said 'we must be more self-sufficient and function without relying on QDs' - but got pushed back by QDs, who wanted to keep the database write access to themselves, for better management and system stability : since I have not trained properly for this.\n",
    " \n",
    "- With QDs helping to change the database tables, I worked to change the code to add the extra calculations needed in the automated jobs that produced the data. Parallel computing were used for these automated jobs, and initially I added the extra calculations so that each parallel worker will produce their own extra calculations. But in test runs, the jobs ran for a long time, without emitting error messages or any kind of logs to indicate what the issues were.  \n",
    "     - Asked in a Slack channel involving Andrew and Junliang, but none of us had any clues at first, so we fired a few shots in the dark, to no avail. What was worse, each attempt to fix the problem could only confirm not working after a few hours' run - again due to no logs or error messsages.\n",
    "     - Addison had a catch-up with Danyaal and lamented on the progress. Danyaal apologized, saying that he just came to know about this and promised to provide help. On Danyaal's request, I included him in the group chat with Andrew and Junliang, and Zoomed with him to bring him up to speed to the problem. But we were still clueless.\n",
    "     - Finally, Charlie, the archetect of the whole system, got involved. He pointed out the problem might be calling the extra calculation from each of the parallel worker, as the extra calculation called another database table as an intermediate step. Since each of the 200 workers tried to open its own connection to the database, it might have brought down the database query functionality, leading to the silent failure. The solution would be to query the other database at the beginning, obtained all needed data for the extra calculation, before kicking off parallel computation. This kind of usage was never done before so QDs were not sure how to do it at first - but thankfully after some additional experiments it seemed to work.\n",
    "     - But even the above change worked and I merged the code to the library, in running in UAT, QDs found that it did not work well with other automatic compute jobs as it still occupied too much bandwidth in database query: this was a conclusion that QDs reachd after jumping in and spending some time investigating.\n",
    "     - By the time all of the above was done, a week had passed. Addison tried to understand 'why something so simple had to take a week?' I tried to explain to him in some details, but **apparently did not manage to bring him a clear picture, as that conversation resulting him in even bigger frustration and confusion**.\n",
    "\n",
    "- I don't have hard proof on this, but this experience could be the evidence provided by QDs in the feedback **\"Haowen sits on projects for too long without asking for help\"** and **\"If without QDs' review, Haowen would have crashed the system.\"**.\n",
    "\n",
    "\n",
    "<font color='red'> **Remarks**: </font> \n",
    "- This is a typical change-of-requirement situation, with the additional condition that Addison was coming in hot. The first you would do should be to acknowledge his emotions and align with his goals. Then try to interview him and inquire about what changed: jupyter notebook was an approach that was agreed, so what changed? Or maybe nothing had changed, but we were not fully in sync as to the concerns of using jupyter. \n",
    "- Though you normally mock Addison and Tian as not appreciating the the nuances in software development, you were not excempt from the wrong mindset yourself on this one, and did not fully evaluating the risks. When taking the task, if you had factored in the risks, you could get Addison's sign-off on asking for QDs' full support.\n",
    "- Continuing on the bullet point above, going through the SMART Checklist could help you identify the scope and scalability made this project not exactly easily attainable. But probably back at that time, you were too afraid to provide the update."
   ]
  },
  {
   "cell_type": "markdown",
   "id": "e524c8dc",
   "metadata": {},
   "source": [
    "## Data Access Dilemma\n",
    "\n",
    "- Addison accused me of 'asking access you are not sure you actually need', **aggrevating the notion that I lack the necessary technical skills or on top of things**. \n",
    "- One example was the database writing access; see the issue above. \n",
    "    - Addison: \"Why can't you add the columns yourself?\"\n",
    "    - Haowen: \"Databases are managed by QDs, and QDs may want to have control over it.\"\n",
    "    - Addison: \"Who said it? Did Charlie or Danyaal say it?\"\n",
    "    - I was drawing from previous experience on how different domains were managed in team structured like the one we were having now, but indeed I had not asked explicitly. When Addison saw the emails of QDs indeed pushing back, he was still not happy, and turned to accuse me of **'functioning on wrong assumptions rather than asking to find out'**.\n",
    "- Another example was for *fstrat*.\n",
    "    - QDs and actually the Global Credit Division were relunctant to give access, since (1) there were no compartmentation in fstrat access: you either have or do not have full access to everything; (2) it was the various market data in fstrat that GCCS was interested in, but fstrat also had position data of other desk, which were sensitive and GCCS desk should not have access to.\n",
    "    - After a few projects that I either needed QDs to change code for me (see the one incident documented in Dec) or exposing the data to a place where I indeed have access (called *crunch*), I thought it would be more efficient for me to have access to *fstrat*. I have requested for several times, not getting formal responses or being made aware of the concern of (1) and (2) above.\n",
    "    - So when another instance where Tianheng asked for market data and I replied we needed QDs assistance since we did not have access, Addison applied pressure on QDs in granting me access to *fstrat*. I indeed was granted access, but Addison also learned (1) and (2), not from me but from QDs. This then became the base of he accusing me of **'asking of access that you are not sure you need'**.\n",
    "        - Without the access, either GCCS requirements would take a compromise in getting limited or different data, or GCCS would need to rely on QDs to expose the dataset and thus dependencies and prolonged timeline.\n",
    "        \n",
    "<font color='red'> **Remark**: </font> It is probably too far gone at this point, where Addison seemed to already hold firm an opinion and trying to find evidence: that I am not up for the job.\n",
    "\n",
    "The only thing I can think of for the first instance that could sound better is to acknowledge Addison's goal to move faster, and propose: 'It is more efficient for QDs to provide me with the dependencies. And I can touch base with them again and see if there is anything I can do to help, or if I can take something else off of their plate.' But it could run the risk of Addison aggravating 'why did you not do so earlier?' But if you are in a situation to chase others, see this [note](https://www.evernote.com/shard/s191/nl/21353936/ec9abd35-ca53-2700-d79f-48bc4cdba68a?title=%E4%BC%98%E7%A7%80%E5%91%98%E5%B7%A5%E6%B2%9F%E9%80%9A%E8%AE%AD%E7%BB%83%E8%90%A5%20Day%2010%20-%20%E5%82%AC%E5%8A%9E%EF%BC%8C%E9%81%BF%E5%85%8D%E5%9B%A0%E5%88%AB%E4%BA%BA%E6%8B%96%E5%BB%B6%E8%80%BD%E8%AF%AF%E8%BF%9B%E5%BA%A6).\n",
    "\n",
    "For *fstrat*, indeed Addison should have heard it from me about information there is sensitive. And I should mention this as a risk when he is pushing, rather than just did his bidding."
   ]
  },
  {
   "cell_type": "markdown",
   "id": "9b04d95f",
   "metadata": {},
   "source": [
    "## Nearly 'ratting out' a Colleague\n",
    "- On Jan 24 night, I was trying to leave at around 5:45pm, when Addison caught hold of me and started quizzing me on the team's trading workflows. \n",
    "    - I got to know the workflow by watching over Kevin's shoulders a few months back. \n",
    "    - When I was watching Kevin, I was of the mindset of learning the process and was trying to see if there were improvements I could make on the tools. I did find a few things and Addison said he was 'pleased' at that time. \n",
    "    - But fast forward to Jan 24 night, my memory on this was rusty. And what was worse, my notes of the conversations with Kevin only had the ideas of changes, rather than the workflow itself, such as what was the system Kevin used to book trades, etc. \n",
    "    - Needless to say, I failed to answer many questions in the quiz. Addison was upset and said 'this is worse than he thought'. He also maintained 'it is impossible for you to perform analysis since you are not able to get data if you don't even know what system that is', which was actually not true, since I dealt with APIs and database tables underlying the trading systems - but of course I thought it better not to retort at the time given my poor performance on the quiz.\n",
    "- On Jan 25 morning, Addison was clearly upset when coming in, and called me into his office shortly after.\n",
    "    - In his office, Addison asked if I had child care duty so that I had to leave earlier than everyone else in the team, while 'I was slow on projects' and 'clearly not on top of things'. I answered I often worked a bit at home. Then Addison said this would not work for him, since last night he wanted some ad hoc analysis, but had to give up since I was not there to provide.\n",
    "    - Addison then went on to lament why I had been 'extremely slow in projects' and 'where I had spent my time on'. \n",
    "        - He asked about several projects and where the deliverables were, I mentioned external dependencies on QDs. That was the best response I could come up with at the time, as I thought the external dependency on QDs were acknowledged (see 'Follow-on drama on carryroll' above), but at that point Addison just wanted to snap: 'If Junliang is doing this, Andrew is doing that. We should then just ask them to be here and replace you!'\n",
    "        - I then mentioned I spent quite some time everyday manually checking my and QDs' results, and when there were outages I had to spend time to investigate before confirming it is a QD/QR change, on which point I would present the evidence and urged QD/QR to fix (see \"Issue of one model input historical values\" above).\n",
    "        - Addison (in fury): \"Are you saying you are spending YOUR time trying to fix others' mistakes? If so, we should fire them then. Drop everything you have today, and summarize a list on how you in the past months have spent your time fixing others' mistakes and we should have them fired.\" I felt my hands trembling as this conversation had led to me pointing fingers, in writing, which could mean the end of my reputation in this industry.\n",
    "- Apparently I was not able to do much work that day, while Addison urged me several times on the list, for which he said he would review after market close on that day. At the end, I did write up a list, and made up my mind to say that all my colleagues were capable, and if he thought someone should be responsible for the slowness in progress, he should fire me. \n",
    "     - But luckily, at the end of the day, Addison seemed to have calmed down. He reviewed the list, talked to me about it, and arrived at the conclusion that it was 50-50 between me and QDs. In theory I would challenge that, since my list was about QD screw-ups that I caught; but of course I did not say anything, as he reached the conclusion I wanted him to reach.\n",
    "     - Still, Addison expressed his frustration that I could not move as fast as he would like, and hand-picked a few projects to be finished 'in days, not weeks'. He also said I could ignore any outages and focused on my own project, unless he explicitly asked me to take a look. After this guarantee, I indeed was able to have more time to focus and churned out things faster, and Addison at some point commented he 'liked this model better', **though the scope was probably already a leg down from his prior expectations**.\n",
    "- From that day on until my exit, I did not dare to leave earlier than the team.\n",
    "\n",
    "<font color='red'> **Remark**: </font> \n",
    "\n",
    "- Freaked out when questions, use this [note](https://www.evernote.com/shard/s191/nl/21353936/5acd70d8-c3fe-f985-d91d-8bccacfa9a38?title=%E4%BC%98%E7%A7%80%E5%91%98%E5%B7%A5%E6%B2%9F%E9%80%9A%E8%AE%AD%E7%BB%83%E8%90%A5%20Day%202%20-%20%E5%9B%9E%E5%BA%94%E6%89%B9%E8%AF%84%EF%BC%8C%E6%89%AD%E8%BD%AC%E9%A2%86%E5%AF%BC%E7%9A%84%E5%8D%B0%E8%B1%A1). \n",
    "- The root cause is your update frequency is not high enough, to the point that Addison lost the sense of control and considered you useless; use this [note](https://www.evernote.com/shard/s191/nl/21353936/4273e090-b0bc-0006-90fa-ae160b546447?title=%E4%BC%98%E7%A7%80%E5%91%98%E5%B7%A5%E6%B2%9F%E9%80%9A%E8%AE%AD%E7%BB%83%E8%90%A5%20Day%207%20-%20%E8%AE%A9%E8%87%AA%E5%B7%B1%E7%9A%84%E5%B7%A5%E4%BD%9C%E6%88%90%E6%9E%9C%E5%8F%8A%E6%97%B6%E8%A2%AB%E7%9C%8B%E8%A7%81%EF%BC%9F)."
   ]
  },
  {
   "cell_type": "markdown",
   "id": "f152c5da",
   "metadata": {},
   "source": [
    "# Feb"
   ]
  },
  {
   "cell_type": "markdown",
   "id": "514c79a4",
   "metadata": {},
   "source": [
    "## Rishi Investigation\n",
    "- Addison complained the lack of progress and the unreliability of the tools to the COO. The COO sent Rishi to interview the stakeholders and see what could be done.\n",
    "- Rishi also talked to me as well, and asked if anything he could do to help. I actually felt good about the talk with him, as he pointed to people and resources I could reach out to for help. This made me feel like I was indeed an analyst on the desk, and QDs/QRs were supporting us.\n",
    "- However, on a late night, Addison called me and Tianheng into his office and revealed the full conclusion/feedback from Rishi.\n",
    "    - QDs complained being pulled in different directions, because all the members of GCCS were pushing requests to them, without clear prioritization. When I first heard this, I did not think this complaint directly concerned me, since I was just creating tickets on the dependencies I needed and also for other team members' requests, so that projects could be tracked. I thought there was no ambiguity that Addison was the only one who had the authority to prioritize among. But after relaying this complaint, Addison turned to me and said 'I don't want you to coordinate this any more, as we are getting a project manager for this.' That sounded it was part of the expectation for me to do the coordination job and I was not good at it.\n",
    "    - Then there were the complaints that were mentioned before.\n",
    "        - \"Haowen cannot work proficiently as any other QDs.\"\n",
    "        - \"Haowen pushed code that without review, could crash the whole system.\"\n",
    "        - \"Haowen sits on projects for too long without asking for help.\"\n",
    "        - \"But Haowen is improving.\"\n",
    "        - Addison: \"It is OK. It is out there that you are not good and everyone knows that. Everyone understand there were training needed to get proficient. In the interest of timeline, you should try to reach out rather than trying to figure out on your own.\"\n",
    "    - Though from the above, Addison's reaction to this sounded acknowledging the time need to ramp up, Tianheng later told me their take-away is \"Haowen is not good at technical projects at all.\" So in sum, Addison's take-away seemed to be that I am the main culprit of why GCCS projects were not moving fast enough.\n",
    "- Since then, though in general I finished projects on time with Addison's set ETAs, he was relunctant to review the results with me and was extra impatient in hearing details than before, probably because he already had the strong prior that it would be wrong.  \n",
    "    - Towards the end I was also very hesitant to demo, and instead keep double checking the mechanics. But **oftentimes what I messed up was not the mechanics, but whether the calculation/assumption made sense at all**.\n",
    "    - Started to feel depressed at the notion of going to work every day, fearing if there were calculations that I did wrong, or something I built broke on that day.\n",
    "    \n",
    "<font color='red'> **Remark**: </font>\n",
    "\n",
    "See the remark in 'More metrics and analytics on Canvas' above."
   ]
  },
  {
   "cell_type": "markdown",
   "id": "0dff43bc",
   "metadata": {},
   "source": [
    "# Mar"
   ]
  },
  {
   "cell_type": "markdown",
   "id": "9872f3bb",
   "metadata": {},
   "source": [
    "## Exit Conversation\n",
    "\n",
    "Addison let me go, saying that they had high expectation of me, but I (1) lack the attention to details; (2) have large gaps in technical skills; (3) insert wrong assumptions and incapable or unwilling to check my results."
   ]
  }
 ],
 "metadata": {
  "kernelspec": {
   "display_name": "Python 3 (ipykernel)",
   "language": "python",
   "name": "python3"
  },
  "language_info": {
   "codemirror_mode": {
    "name": "ipython",
    "version": 3
   },
   "file_extension": ".py",
   "mimetype": "text/x-python",
   "name": "python",
   "nbconvert_exporter": "python",
   "pygments_lexer": "ipython3",
   "version": "3.9.7"
  }
 },
 "nbformat": 4,
 "nbformat_minor": 5
}

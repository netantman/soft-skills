{
 "cells": [
  {
   "cell_type": "markdown",
   "id": "fc332642",
   "metadata": {},
   "source": [
    "## Frequent/routine updates to boss/client when things going smoothly\n",
    "- Try to **visualize and quantify** your work, by showing progress updates on your seat or via daily update communications.\n",
    "- If your **counterpart know the stuff**: focus on how it is relevant to him/her\n",
    "    - challenge/solution => next steps => feedback\n",
    "- If your **counterpart is not an expert**: focus on goal/resources/deadline, and asking for help\n",
    "    - acknowledge the goal => ask for specific support\n",
    "- Updates should be frequent, and as such, be **small but real progresses**."
   ]
  },
  {
   "cell_type": "markdown",
   "id": "9789e012",
   "metadata": {},
   "source": [
    "## Negative update to boss/client\n",
    "- \"I need to report a risk\": delay, mess-ups, etc.\n",
    "- **Reasons** things go wrong: frame it on things you can control\n",
    "    - Sometimes it is situation changes\n",
    "- **Propose a plan** and ask your boss/client to decide\n",
    "    - Does not have to be a perfect plan, but just to show that you are taking initiatives!\n",
    "- Do it **sooner rather than later**."
   ]
  },
  {
   "cell_type": "markdown",
   "id": "a76c5a92",
   "metadata": {},
   "source": [
    "## Reports that need boss action\n",
    "- Mention the **required action** right on the start: resources, guidances\n",
    "- **Background**: reasons, chanllenges\n",
    "- **Solutions**: what have been tried before, or what the proposal is\n",
    "- Mention the required action again, and if applicable, **what is in it for the boss**"
   ]
  },
  {
   "cell_type": "markdown",
   "id": "306c602e",
   "metadata": {},
   "source": [
    "## If requirements change all the time\n",
    "- **Minimal viable action**: choose something in the feedback that is least effort, do that first\n",
    "    - If there are costs in doing so, mention that in the catch-up\n",
    "- **Frequent catch-up**: let your counterparts know the step-by-step plan\n",
    "- At the end of each catch-up, **proactively asking for new requirements**"
   ]
  },
  {
   "cell_type": "markdown",
   "id": "d71a6664",
   "metadata": {},
   "source": [
    "## When Criticized\n",
    "- Do not **try to explain to make other people understand**, especially in the heat of moment.\n",
    "    - **Take a notebook**: 'This is important. I will note it down. Please continue.'\n",
    "- Assume responsibility and **acknowledge the emotion**: try to attribute to something that you have control over.\n",
    "    - Try to de-esculate or find a more private setting, if criticized publically\n",
    "- **Ascertain or explore actions**: propose a **plan**\n",
    "    - Remember to sync the larger group, if the criticism came publically\n",
    "- Establish **timeline of feedback**\n",
    "    - Even if the matter is not fully resolved, do provide updates.\n",
    "- Key is to respond **right there, right now, in person**.\n",
    "- **Postmortem**\n",
    "    - Future plan\n",
    "    - You can clarify here if it is actually not your fault"
   ]
  },
  {
   "cell_type": "markdown",
   "id": "59d8091d",
   "metadata": {},
   "source": [
    "## Review a Project\n",
    "\n",
    "The **KISS principles**: what to Keep, what to Improve, what to Start, what to Stop\n",
    "\n",
    "Do this **often**: does not need to be ground-breaking new technique.\n",
    "\n",
    "### If things went well, use comparison to show your contribution\n",
    "- Find a **benchmark**: past projects?\n",
    "- Summarize using KISS: one or two\n",
    "- Ask if my summary above is good\n",
    "\n",
    "### If things did not go well, \n",
    "- Still use KISS: again one or two\n",
    "- Catch up with boss about lessons"
   ]
  }
 ],
 "metadata": {
  "kernelspec": {
   "display_name": "Python 3 (ipykernel)",
   "language": "python",
   "name": "python3"
  },
  "language_info": {
   "codemirror_mode": {
    "name": "ipython",
    "version": 3
   },
   "file_extension": ".py",
   "mimetype": "text/x-python",
   "name": "python",
   "nbconvert_exporter": "python",
   "pygments_lexer": "ipython3",
   "version": "3.9.7"
  }
 },
 "nbformat": 4,
 "nbformat_minor": 5
}

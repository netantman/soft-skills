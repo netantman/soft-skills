{
 "cells": [
  {
   "cell_type": "markdown",
   "id": "018dd866",
   "metadata": {},
   "source": [
    "## How to Take a Task"
   ]
  },
  {
   "cell_type": "markdown",
   "id": "fe7878e0",
   "metadata": {},
   "source": [
    "### Listen carefully, pay attention to\n",
    "\n",
    "- Client/Boss's **emotion**: helps give clue about priority; watch out for indicative words\n",
    "- Background, facts and motivation\n",
    "- Expectation: formulate metrics\n",
    "    - Does client/boss have **inclinations of approach/conclusion**?\n",
    "    - Does client/boss have **suggestions or initial plans**?"
   ]
  },
  {
   "cell_type": "markdown",
   "id": "12b4566a",
   "metadata": {},
   "source": [
    "### Ask\n",
    "- First repeat the task back: even repeat is fine, ascertain facts.\n",
    "- Be sure about target/goal\n",
    "    - The **SMART principle**\n",
    "    - If it is multi-goal, what is the most important ones?\n",
    "- What are the **support/resources** I may have?\n",
    "- What are the **constraints/express concerns**?\n",
    "    - Help to identify risks"
   ]
  },
  {
   "cell_type": "markdown",
   "id": "f9416344",
   "metadata": {},
   "source": [
    "### Next step\n",
    "- Think: what is the minimal viable step?\n",
    "- Make sure to **schedule the next sync/catch-up right there**: 'let me schedule something with you on your calendar so that we can talk about concrete plans'\n",
    "- If task is simple/straightforward: directly provide a sample in the first catch-up\n",
    "- If the task is new but there could be precedent, ask for a **life-guard**, but do come up with your own plan and report later.\n",
    "- If the task is complex/multi-step/need research, use the **structural template** to come up with a plan and milestones.\n",
    "    - Goal: **SMART principles**\n",
    "    - Possible Implementation Steps (could be just directions)\n",
    "    - Expected Outcome\n",
    "    - Potential Risks\n",
    "- If it is an open task, the plan can help determine whether we want to do it.\n",
    "- If it is a task that is done before, think of **ways to improve/what might be changed**."
   ]
  },
  {
   "cell_type": "markdown",
   "id": "e16f8ae3",
   "metadata": {},
   "source": [
    "### SMART Checklist\n",
    "- Specificity\n",
    "    - In general, what should be the features/deliverables? Try to make proposals!\n",
    "    - What is the model/heurestics/formula that produces the analytics? \n",
    "        - How are we sure it is correct? \n",
    "        - How are we sure that it was implemented correctly?\n",
    "    - If it is an interactive tool, what could be the edge cases?\n",
    "        - expected inputs, wrong order of operations, unexpected time of usage\n",
    "        - Can I impose rules on how to use so as to avoid these edge cases?\n",
    "- Measurability\n",
    "    - What is the output/implications of the change to downstream?\n",
    "    - Is there any benchmark we can compare to, to ensure accuracy?\n",
    "    - What is the scope of the checks?\n",
    "        - Especially for when-I-see-it-I-will-know-it-situation, and thus checks need to be performed manually.\n",
    "    - Scope questions\n",
    "        - Latency/throughput/frequency of the analytics?\n",
    "        - Importance of missing data?\n",
    "        - Population covered? Does it change over time, and what is the resolution if it does?\n",
    "- Attainability\n",
    "    - Could there be a different approach?\n",
    "    - Where can we source the input data? \n",
    "        - Do we have access? \n",
    "        - What is the refresh frequency and will it be an issue on traffic? \n",
    "- Relevance\n",
    "    - Why is it useful?\n",
    "    - What part of the workflow does it support/improve?\n",
    "    - How are you intend to use it?\n",
    "- Time-bound: by what time achieve what"
   ]
  }
 ],
 "metadata": {
  "kernelspec": {
   "display_name": "Python 3 (ipykernel)",
   "language": "python",
   "name": "python3"
  },
  "language_info": {
   "codemirror_mode": {
    "name": "ipython",
    "version": 3
   },
   "file_extension": ".py",
   "mimetype": "text/x-python",
   "name": "python",
   "nbconvert_exporter": "python",
   "pygments_lexer": "ipython3",
   "version": "3.9.7"
  }
 },
 "nbformat": 4,
 "nbformat_minor": 5
}
